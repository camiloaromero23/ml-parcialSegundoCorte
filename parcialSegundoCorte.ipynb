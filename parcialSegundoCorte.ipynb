{
  "nbformat": 4,
  "nbformat_minor": 0,
  "metadata": {
    "colab": {
      "name": "parcialSegundoCorte.ipynb",
      "provenance": [],
      "collapsed_sections": [],
      "toc_visible": true
    },
    "kernelspec": {
      "name": "python3",
      "display_name": "Python 3"
    },
    "language_info": {
      "name": "python"
    }
  },
  "cells": [
    {
      "cell_type": "markdown",
      "metadata": {
        "id": "GiqUf0ZD60Zo"
      },
      "source": [
        "# Machine Learning Second Term Final Exam \n",
        "# Camilo Andrés Romero Maldonado\n",
        "# **Email** camiloa.romero@correo.usa.edu.co\n",
        "# **CC** 1020844233"
      ]
    },
    {
      "cell_type": "markdown",
      "metadata": {
        "id": "5lsnFRyQ66Kk"
      },
      "source": [
        "## Required Imports & General Configurations"
      ]
    },
    {
      "cell_type": "code",
      "metadata": {
        "id": "L3TEtrEL6k2n"
      },
      "source": [
        "import pandas as pd\n",
        "import numpy as np\n",
        "import matplotlib.pyplot as plt\n",
        "import seaborn as sns\n",
        "\n",
        "from sklearn.base import BaseEstimator, TransformerMixin\n",
        "from sklearn.feature_extraction.text import CountVectorizer\n",
        "from sklearn.metrics import accuracy_score, precision_score\n",
        "from sklearn.model_selection import train_test_split, GridSearchCV\n",
        "from sklearn.neighbors import KNeighborsClassifier\n",
        "from sklearn.naive_bayes import MultinomialNB\n",
        "from sklearn.pipeline import Pipeline\n",
        "from sklearn.preprocessing import MaxAbsScaler, OrdinalEncoder\n",
        "from sklearn.tree import DecisionTreeClassifier\n",
        "\n",
        "from nltk import PorterStemmer\n",
        "from nltk.tokenize import RegexpTokenizer\n",
        "\n",
        "from google.colab import drive\n",
        "import json"
      ],
      "execution_count": 87,
      "outputs": []
    },
    {
      "cell_type": "markdown",
      "metadata": {
        "id": "Hp22S8c77O3i"
      },
      "source": [
        " Drive mounting"
      ]
    },
    {
      "cell_type": "code",
      "metadata": {
        "colab": {
          "base_uri": "https://localhost:8080/"
        },
        "id": "nq_CAKWt7ZNo",
        "outputId": "b0ff3c54-b6cb-443b-8de1-16fe397561c5"
      },
      "source": [
        "drive.mount('/content/drive')"
      ],
      "execution_count": 88,
      "outputs": [
        {
          "output_type": "stream",
          "text": [
            "Drive already mounted at /content/drive; to attempt to forcibly remount, call drive.mount(\"/content/drive\", force_remount=True).\n"
          ],
          "name": "stdout"
        }
      ]
    },
    {
      "cell_type": "markdown",
      "metadata": {
        "id": "zz3_MshKnMC9"
      },
      "source": [
        "## Pretty print dictionaries function"
      ]
    },
    {
      "cell_type": "code",
      "metadata": {
        "id": "_Z5PW_crnQRe"
      },
      "source": [
        "def printDict(d):\n",
        "    print(json.dumps(d,sort_keys=True, indent=4))"
      ],
      "execution_count": 89,
      "outputs": []
    },
    {
      "cell_type": "markdown",
      "metadata": {
        "id": "YnJ2YD50b9ri"
      },
      "source": [
        "# Dataset News All categories\n"
      ]
    },
    {
      "cell_type": "markdown",
      "metadata": {
        "id": "erOODki51a7F"
      },
      "source": [
        "## Initial exploration"
      ]
    },
    {
      "cell_type": "markdown",
      "metadata": {
        "id": "r8qOv93md2AY"
      },
      "source": [
        "### Dataset reading & exploration"
      ]
    },
    {
      "cell_type": "code",
      "metadata": {
        "id": "dFm--I4Gb9rj",
        "colab": {
          "base_uri": "https://localhost:8080/",
          "height": 419
        },
        "outputId": "75071fc8-3ad3-4e04-c4bb-a95a2f10f7b2"
      },
      "source": [
        "dataset = pd.read_json('/content/drive/MyDrive/ML/Segundo Corte/news_category_dataset_v2.json', lines=True)\n",
        "\n",
        "dataset"
      ],
      "execution_count": 56,
      "outputs": [
        {
          "output_type": "execute_result",
          "data": {
            "text/html": [
              "<div>\n",
              "<style scoped>\n",
              "    .dataframe tbody tr th:only-of-type {\n",
              "        vertical-align: middle;\n",
              "    }\n",
              "\n",
              "    .dataframe tbody tr th {\n",
              "        vertical-align: top;\n",
              "    }\n",
              "\n",
              "    .dataframe thead th {\n",
              "        text-align: right;\n",
              "    }\n",
              "</style>\n",
              "<table border=\"1\" class=\"dataframe\">\n",
              "  <thead>\n",
              "    <tr style=\"text-align: right;\">\n",
              "      <th></th>\n",
              "      <th>category</th>\n",
              "      <th>headline</th>\n",
              "      <th>authors</th>\n",
              "      <th>link</th>\n",
              "      <th>short_description</th>\n",
              "      <th>date</th>\n",
              "    </tr>\n",
              "  </thead>\n",
              "  <tbody>\n",
              "    <tr>\n",
              "      <th>0</th>\n",
              "      <td>CRIME</td>\n",
              "      <td>There Were 2 Mass Shootings In Texas Last Week...</td>\n",
              "      <td>Melissa Jeltsen</td>\n",
              "      <td>https://www.huffingtonpost.com/entry/texas-ama...</td>\n",
              "      <td>She left her husband. He killed their children...</td>\n",
              "      <td>2018-05-26</td>\n",
              "    </tr>\n",
              "    <tr>\n",
              "      <th>1</th>\n",
              "      <td>ENTERTAINMENT</td>\n",
              "      <td>Will Smith Joins Diplo And Nicky Jam For The 2...</td>\n",
              "      <td>Andy McDonald</td>\n",
              "      <td>https://www.huffingtonpost.com/entry/will-smit...</td>\n",
              "      <td>Of course it has a song.</td>\n",
              "      <td>2018-05-26</td>\n",
              "    </tr>\n",
              "    <tr>\n",
              "      <th>2</th>\n",
              "      <td>ENTERTAINMENT</td>\n",
              "      <td>Hugh Grant Marries For The First Time At Age 57</td>\n",
              "      <td>Ron Dicker</td>\n",
              "      <td>https://www.huffingtonpost.com/entry/hugh-gran...</td>\n",
              "      <td>The actor and his longtime girlfriend Anna Ebe...</td>\n",
              "      <td>2018-05-26</td>\n",
              "    </tr>\n",
              "    <tr>\n",
              "      <th>3</th>\n",
              "      <td>ENTERTAINMENT</td>\n",
              "      <td>Jim Carrey Blasts 'Castrato' Adam Schiff And D...</td>\n",
              "      <td>Ron Dicker</td>\n",
              "      <td>https://www.huffingtonpost.com/entry/jim-carre...</td>\n",
              "      <td>The actor gives Dems an ass-kicking for not fi...</td>\n",
              "      <td>2018-05-26</td>\n",
              "    </tr>\n",
              "    <tr>\n",
              "      <th>4</th>\n",
              "      <td>ENTERTAINMENT</td>\n",
              "      <td>Julianna Margulies Uses Donald Trump Poop Bags...</td>\n",
              "      <td>Ron Dicker</td>\n",
              "      <td>https://www.huffingtonpost.com/entry/julianna-...</td>\n",
              "      <td>The \"Dietland\" actress said using the bags is ...</td>\n",
              "      <td>2018-05-26</td>\n",
              "    </tr>\n",
              "    <tr>\n",
              "      <th>...</th>\n",
              "      <td>...</td>\n",
              "      <td>...</td>\n",
              "      <td>...</td>\n",
              "      <td>...</td>\n",
              "      <td>...</td>\n",
              "      <td>...</td>\n",
              "    </tr>\n",
              "    <tr>\n",
              "      <th>200848</th>\n",
              "      <td>TECH</td>\n",
              "      <td>RIM CEO Thorsten Heins' 'Significant' Plans Fo...</td>\n",
              "      <td>Reuters, Reuters</td>\n",
              "      <td>https://www.huffingtonpost.com/entry/rim-ceo-t...</td>\n",
              "      <td>Verizon Wireless and AT&amp;T are already promotin...</td>\n",
              "      <td>2012-01-28</td>\n",
              "    </tr>\n",
              "    <tr>\n",
              "      <th>200849</th>\n",
              "      <td>SPORTS</td>\n",
              "      <td>Maria Sharapova Stunned By Victoria Azarenka I...</td>\n",
              "      <td></td>\n",
              "      <td>https://www.huffingtonpost.com/entry/maria-sha...</td>\n",
              "      <td>Afterward, Azarenka, more effusive with the pr...</td>\n",
              "      <td>2012-01-28</td>\n",
              "    </tr>\n",
              "    <tr>\n",
              "      <th>200850</th>\n",
              "      <td>SPORTS</td>\n",
              "      <td>Giants Over Patriots, Jets Over Colts Among  M...</td>\n",
              "      <td></td>\n",
              "      <td>https://www.huffingtonpost.com/entry/super-bow...</td>\n",
              "      <td>Leading up to Super Bowl XLVI, the most talked...</td>\n",
              "      <td>2012-01-28</td>\n",
              "    </tr>\n",
              "    <tr>\n",
              "      <th>200851</th>\n",
              "      <td>SPORTS</td>\n",
              "      <td>Aldon Smith Arrested: 49ers Linebacker Busted ...</td>\n",
              "      <td></td>\n",
              "      <td>https://www.huffingtonpost.com/entry/aldon-smi...</td>\n",
              "      <td>CORRECTION: An earlier version of this story i...</td>\n",
              "      <td>2012-01-28</td>\n",
              "    </tr>\n",
              "    <tr>\n",
              "      <th>200852</th>\n",
              "      <td>SPORTS</td>\n",
              "      <td>Dwight Howard Rips Teammates After Magic Loss ...</td>\n",
              "      <td></td>\n",
              "      <td>https://www.huffingtonpost.com/entry/dwight-ho...</td>\n",
              "      <td>The five-time all-star center tore into his te...</td>\n",
              "      <td>2012-01-28</td>\n",
              "    </tr>\n",
              "  </tbody>\n",
              "</table>\n",
              "<p>200853 rows × 6 columns</p>\n",
              "</div>"
            ],
            "text/plain": [
              "             category  ...       date\n",
              "0               CRIME  ... 2018-05-26\n",
              "1       ENTERTAINMENT  ... 2018-05-26\n",
              "2       ENTERTAINMENT  ... 2018-05-26\n",
              "3       ENTERTAINMENT  ... 2018-05-26\n",
              "4       ENTERTAINMENT  ... 2018-05-26\n",
              "...               ...  ...        ...\n",
              "200848           TECH  ... 2012-01-28\n",
              "200849         SPORTS  ... 2012-01-28\n",
              "200850         SPORTS  ... 2012-01-28\n",
              "200851         SPORTS  ... 2012-01-28\n",
              "200852         SPORTS  ... 2012-01-28\n",
              "\n",
              "[200853 rows x 6 columns]"
            ]
          },
          "metadata": {
            "tags": []
          },
          "execution_count": 56
        }
      ]
    },
    {
      "cell_type": "markdown",
      "metadata": {
        "id": "RNkzL3WXJefO"
      },
      "source": [
        "### Dataset information cleaning"
      ]
    },
    {
      "cell_type": "markdown",
      "metadata": {
        "id": "HkdpQyepLCEn"
      },
      "source": [
        "#### Registers filtering and dataset cleaning"
      ]
    },
    {
      "cell_type": "markdown",
      "metadata": {
        "id": "UVRF7ViDRTI0"
      },
      "source": [
        "Check if there is a register which relevant columns for classification are empty for removing it"
      ]
    },
    {
      "cell_type": "code",
      "metadata": {
        "colab": {
          "base_uri": "https://localhost:8080/"
        },
        "id": "x7wV6sr9FMOp",
        "outputId": "66654987-f032-4971-909d-481124dfa3d0"
      },
      "source": [
        "(dataset[((dataset.authors == '') & (dataset.headline == '') & (dataset.short_description == ''))]).count()"
      ],
      "execution_count": 57,
      "outputs": [
        {
          "output_type": "execute_result",
          "data": {
            "text/plain": [
              "category             0\n",
              "headline             0\n",
              "authors              0\n",
              "link                 0\n",
              "short_description    0\n",
              "date                 0\n",
              "dtype: int64"
            ]
          },
          "metadata": {
            "tags": []
          },
          "execution_count": 57
        }
      ]
    },
    {
      "cell_type": "code",
      "metadata": {
        "colab": {
          "base_uri": "https://localhost:8080/"
        },
        "id": "hANPqfy3KIES",
        "outputId": "3442e06e-ca2f-4680-c2fb-0cb4e0211b5a"
      },
      "source": [
        "(dataset[dataset.authors == '']).count()"
      ],
      "execution_count": 58,
      "outputs": [
        {
          "output_type": "execute_result",
          "data": {
            "text/plain": [
              "category             36620\n",
              "headline             36620\n",
              "authors              36620\n",
              "link                 36620\n",
              "short_description    36620\n",
              "date                 36620\n",
              "dtype: int64"
            ]
          },
          "metadata": {
            "tags": []
          },
          "execution_count": 58
        }
      ]
    },
    {
      "cell_type": "code",
      "metadata": {
        "colab": {
          "base_uri": "https://localhost:8080/"
        },
        "id": "iwjNT1muK2JG",
        "outputId": "c89bc381-185e-4a02-9f5c-f9049230e329"
      },
      "source": [
        "(dataset[dataset.headline == '']).count()"
      ],
      "execution_count": 59,
      "outputs": [
        {
          "output_type": "execute_result",
          "data": {
            "text/plain": [
              "category             6\n",
              "headline             6\n",
              "authors              6\n",
              "link                 6\n",
              "short_description    6\n",
              "date                 6\n",
              "dtype: int64"
            ]
          },
          "metadata": {
            "tags": []
          },
          "execution_count": 59
        }
      ]
    },
    {
      "cell_type": "code",
      "metadata": {
        "colab": {
          "base_uri": "https://localhost:8080/"
        },
        "id": "85HxC1isK4XR",
        "outputId": "c7920042-0beb-46f1-92a7-bf161c7c20a5"
      },
      "source": [
        "(dataset[dataset.short_description == '']).count()"
      ],
      "execution_count": 60,
      "outputs": [
        {
          "output_type": "execute_result",
          "data": {
            "text/plain": [
              "category             19712\n",
              "headline             19712\n",
              "authors              19712\n",
              "link                 19712\n",
              "short_description    19712\n",
              "date                 19712\n",
              "dtype: int64"
            ]
          },
          "metadata": {
            "tags": []
          },
          "execution_count": 60
        }
      ]
    },
    {
      "cell_type": "markdown",
      "metadata": {
        "id": "vjaRFW7sREbx"
      },
      "source": [
        "Filling empty columns with NO_[COLUMN_NAME]"
      ]
    },
    {
      "cell_type": "code",
      "metadata": {
        "colab": {
          "base_uri": "https://localhost:8080/",
          "height": 419
        },
        "id": "FfZAg6h5HwaI",
        "outputId": "8ffb8d56-3639-43c8-feea-fa8f4e70bbba"
      },
      "source": [
        "dataset.loc[dataset['authors'] == '' ,'authors'] = 'NO_AUTHOR'\n",
        "dataset.loc[dataset['headline'] == '' ,'headline'] = 'NO_HEADLINE'\n",
        "dataset.loc[dataset['short_description'] == '' ,'short_description'] = 'NO_DESCRIPTION'\n",
        "\n",
        "dataset"
      ],
      "execution_count": 61,
      "outputs": [
        {
          "output_type": "execute_result",
          "data": {
            "text/html": [
              "<div>\n",
              "<style scoped>\n",
              "    .dataframe tbody tr th:only-of-type {\n",
              "        vertical-align: middle;\n",
              "    }\n",
              "\n",
              "    .dataframe tbody tr th {\n",
              "        vertical-align: top;\n",
              "    }\n",
              "\n",
              "    .dataframe thead th {\n",
              "        text-align: right;\n",
              "    }\n",
              "</style>\n",
              "<table border=\"1\" class=\"dataframe\">\n",
              "  <thead>\n",
              "    <tr style=\"text-align: right;\">\n",
              "      <th></th>\n",
              "      <th>category</th>\n",
              "      <th>headline</th>\n",
              "      <th>authors</th>\n",
              "      <th>link</th>\n",
              "      <th>short_description</th>\n",
              "      <th>date</th>\n",
              "    </tr>\n",
              "  </thead>\n",
              "  <tbody>\n",
              "    <tr>\n",
              "      <th>0</th>\n",
              "      <td>CRIME</td>\n",
              "      <td>There Were 2 Mass Shootings In Texas Last Week...</td>\n",
              "      <td>Melissa Jeltsen</td>\n",
              "      <td>https://www.huffingtonpost.com/entry/texas-ama...</td>\n",
              "      <td>She left her husband. He killed their children...</td>\n",
              "      <td>2018-05-26</td>\n",
              "    </tr>\n",
              "    <tr>\n",
              "      <th>1</th>\n",
              "      <td>ENTERTAINMENT</td>\n",
              "      <td>Will Smith Joins Diplo And Nicky Jam For The 2...</td>\n",
              "      <td>Andy McDonald</td>\n",
              "      <td>https://www.huffingtonpost.com/entry/will-smit...</td>\n",
              "      <td>Of course it has a song.</td>\n",
              "      <td>2018-05-26</td>\n",
              "    </tr>\n",
              "    <tr>\n",
              "      <th>2</th>\n",
              "      <td>ENTERTAINMENT</td>\n",
              "      <td>Hugh Grant Marries For The First Time At Age 57</td>\n",
              "      <td>Ron Dicker</td>\n",
              "      <td>https://www.huffingtonpost.com/entry/hugh-gran...</td>\n",
              "      <td>The actor and his longtime girlfriend Anna Ebe...</td>\n",
              "      <td>2018-05-26</td>\n",
              "    </tr>\n",
              "    <tr>\n",
              "      <th>3</th>\n",
              "      <td>ENTERTAINMENT</td>\n",
              "      <td>Jim Carrey Blasts 'Castrato' Adam Schiff And D...</td>\n",
              "      <td>Ron Dicker</td>\n",
              "      <td>https://www.huffingtonpost.com/entry/jim-carre...</td>\n",
              "      <td>The actor gives Dems an ass-kicking for not fi...</td>\n",
              "      <td>2018-05-26</td>\n",
              "    </tr>\n",
              "    <tr>\n",
              "      <th>4</th>\n",
              "      <td>ENTERTAINMENT</td>\n",
              "      <td>Julianna Margulies Uses Donald Trump Poop Bags...</td>\n",
              "      <td>Ron Dicker</td>\n",
              "      <td>https://www.huffingtonpost.com/entry/julianna-...</td>\n",
              "      <td>The \"Dietland\" actress said using the bags is ...</td>\n",
              "      <td>2018-05-26</td>\n",
              "    </tr>\n",
              "    <tr>\n",
              "      <th>...</th>\n",
              "      <td>...</td>\n",
              "      <td>...</td>\n",
              "      <td>...</td>\n",
              "      <td>...</td>\n",
              "      <td>...</td>\n",
              "      <td>...</td>\n",
              "    </tr>\n",
              "    <tr>\n",
              "      <th>200848</th>\n",
              "      <td>TECH</td>\n",
              "      <td>RIM CEO Thorsten Heins' 'Significant' Plans Fo...</td>\n",
              "      <td>Reuters, Reuters</td>\n",
              "      <td>https://www.huffingtonpost.com/entry/rim-ceo-t...</td>\n",
              "      <td>Verizon Wireless and AT&amp;T are already promotin...</td>\n",
              "      <td>2012-01-28</td>\n",
              "    </tr>\n",
              "    <tr>\n",
              "      <th>200849</th>\n",
              "      <td>SPORTS</td>\n",
              "      <td>Maria Sharapova Stunned By Victoria Azarenka I...</td>\n",
              "      <td>NO_AUTHOR</td>\n",
              "      <td>https://www.huffingtonpost.com/entry/maria-sha...</td>\n",
              "      <td>Afterward, Azarenka, more effusive with the pr...</td>\n",
              "      <td>2012-01-28</td>\n",
              "    </tr>\n",
              "    <tr>\n",
              "      <th>200850</th>\n",
              "      <td>SPORTS</td>\n",
              "      <td>Giants Over Patriots, Jets Over Colts Among  M...</td>\n",
              "      <td>NO_AUTHOR</td>\n",
              "      <td>https://www.huffingtonpost.com/entry/super-bow...</td>\n",
              "      <td>Leading up to Super Bowl XLVI, the most talked...</td>\n",
              "      <td>2012-01-28</td>\n",
              "    </tr>\n",
              "    <tr>\n",
              "      <th>200851</th>\n",
              "      <td>SPORTS</td>\n",
              "      <td>Aldon Smith Arrested: 49ers Linebacker Busted ...</td>\n",
              "      <td>NO_AUTHOR</td>\n",
              "      <td>https://www.huffingtonpost.com/entry/aldon-smi...</td>\n",
              "      <td>CORRECTION: An earlier version of this story i...</td>\n",
              "      <td>2012-01-28</td>\n",
              "    </tr>\n",
              "    <tr>\n",
              "      <th>200852</th>\n",
              "      <td>SPORTS</td>\n",
              "      <td>Dwight Howard Rips Teammates After Magic Loss ...</td>\n",
              "      <td>NO_AUTHOR</td>\n",
              "      <td>https://www.huffingtonpost.com/entry/dwight-ho...</td>\n",
              "      <td>The five-time all-star center tore into his te...</td>\n",
              "      <td>2012-01-28</td>\n",
              "    </tr>\n",
              "  </tbody>\n",
              "</table>\n",
              "<p>200853 rows × 6 columns</p>\n",
              "</div>"
            ],
            "text/plain": [
              "             category  ...       date\n",
              "0               CRIME  ... 2018-05-26\n",
              "1       ENTERTAINMENT  ... 2018-05-26\n",
              "2       ENTERTAINMENT  ... 2018-05-26\n",
              "3       ENTERTAINMENT  ... 2018-05-26\n",
              "4       ENTERTAINMENT  ... 2018-05-26\n",
              "...               ...  ...        ...\n",
              "200848           TECH  ... 2012-01-28\n",
              "200849         SPORTS  ... 2012-01-28\n",
              "200850         SPORTS  ... 2012-01-28\n",
              "200851         SPORTS  ... 2012-01-28\n",
              "200852         SPORTS  ... 2012-01-28\n",
              "\n",
              "[200853 rows x 6 columns]"
            ]
          },
          "metadata": {
            "tags": []
          },
          "execution_count": 61
        }
      ]
    },
    {
      "cell_type": "markdown",
      "metadata": {
        "id": "bzsU_jon2jjF"
      },
      "source": [
        "Describing the dataset for discovering the labels and the amount of entries from the dataset. Also, some general information."
      ]
    },
    {
      "cell_type": "markdown",
      "metadata": {
        "id": "icycXNTxLj6R"
      },
      "source": [
        "#### Dataset exploration"
      ]
    },
    {
      "cell_type": "code",
      "metadata": {
        "colab": {
          "base_uri": "https://localhost:8080/",
          "height": 289
        },
        "id": "Wz2OgHrSb9rj",
        "outputId": "a8cf8c49-97f0-4587-b43c-81c6af4f0347"
      },
      "source": [
        "dataset.describe()"
      ],
      "execution_count": 62,
      "outputs": [
        {
          "output_type": "stream",
          "text": [
            "/usr/local/lib/python3.7/dist-packages/ipykernel_launcher.py:1: FutureWarning: Treating datetime data as categorical rather than numeric in `.describe` is deprecated and will be removed in a future version of pandas. Specify `datetime_is_numeric=True` to silence this warning and adopt the future behavior now.\n",
            "  \"\"\"Entry point for launching an IPython kernel.\n"
          ],
          "name": "stderr"
        },
        {
          "output_type": "execute_result",
          "data": {
            "text/html": [
              "<div>\n",
              "<style scoped>\n",
              "    .dataframe tbody tr th:only-of-type {\n",
              "        vertical-align: middle;\n",
              "    }\n",
              "\n",
              "    .dataframe tbody tr th {\n",
              "        vertical-align: top;\n",
              "    }\n",
              "\n",
              "    .dataframe thead th {\n",
              "        text-align: right;\n",
              "    }\n",
              "</style>\n",
              "<table border=\"1\" class=\"dataframe\">\n",
              "  <thead>\n",
              "    <tr style=\"text-align: right;\">\n",
              "      <th></th>\n",
              "      <th>category</th>\n",
              "      <th>headline</th>\n",
              "      <th>authors</th>\n",
              "      <th>link</th>\n",
              "      <th>short_description</th>\n",
              "      <th>date</th>\n",
              "    </tr>\n",
              "  </thead>\n",
              "  <tbody>\n",
              "    <tr>\n",
              "      <th>count</th>\n",
              "      <td>200853</td>\n",
              "      <td>200853</td>\n",
              "      <td>200853</td>\n",
              "      <td>200853</td>\n",
              "      <td>200853</td>\n",
              "      <td>200853</td>\n",
              "    </tr>\n",
              "    <tr>\n",
              "      <th>unique</th>\n",
              "      <td>41</td>\n",
              "      <td>199344</td>\n",
              "      <td>27993</td>\n",
              "      <td>200812</td>\n",
              "      <td>178353</td>\n",
              "      <td>2309</td>\n",
              "    </tr>\n",
              "    <tr>\n",
              "      <th>top</th>\n",
              "      <td>POLITICS</td>\n",
              "      <td>Sunday Roundup</td>\n",
              "      <td>NO_AUTHOR</td>\n",
              "      <td>https://www.huffingtonpost.comhttps://www.wash...</td>\n",
              "      <td>NO_DESCRIPTION</td>\n",
              "      <td>2013-01-17 00:00:00</td>\n",
              "    </tr>\n",
              "    <tr>\n",
              "      <th>freq</th>\n",
              "      <td>32739</td>\n",
              "      <td>90</td>\n",
              "      <td>36620</td>\n",
              "      <td>2</td>\n",
              "      <td>19712</td>\n",
              "      <td>100</td>\n",
              "    </tr>\n",
              "    <tr>\n",
              "      <th>first</th>\n",
              "      <td>NaN</td>\n",
              "      <td>NaN</td>\n",
              "      <td>NaN</td>\n",
              "      <td>NaN</td>\n",
              "      <td>NaN</td>\n",
              "      <td>2012-01-28 00:00:00</td>\n",
              "    </tr>\n",
              "    <tr>\n",
              "      <th>last</th>\n",
              "      <td>NaN</td>\n",
              "      <td>NaN</td>\n",
              "      <td>NaN</td>\n",
              "      <td>NaN</td>\n",
              "      <td>NaN</td>\n",
              "      <td>2018-05-26 00:00:00</td>\n",
              "    </tr>\n",
              "  </tbody>\n",
              "</table>\n",
              "</div>"
            ],
            "text/plain": [
              "        category        headline  ... short_description                 date\n",
              "count     200853          200853  ...            200853               200853\n",
              "unique        41          199344  ...            178353                 2309\n",
              "top     POLITICS  Sunday Roundup  ...    NO_DESCRIPTION  2013-01-17 00:00:00\n",
              "freq       32739              90  ...             19712                  100\n",
              "first        NaN             NaN  ...               NaN  2012-01-28 00:00:00\n",
              "last         NaN             NaN  ...               NaN  2018-05-26 00:00:00\n",
              "\n",
              "[6 rows x 6 columns]"
            ]
          },
          "metadata": {
            "tags": []
          },
          "execution_count": 62
        }
      ]
    },
    {
      "cell_type": "markdown",
      "metadata": {
        "id": "H5F_v9yA3bnk"
      },
      "source": [
        "General info from the dataset that shows that there is no null entries in any in the dataset"
      ]
    },
    {
      "cell_type": "code",
      "metadata": {
        "colab": {
          "base_uri": "https://localhost:8080/"
        },
        "id": "HOtxU0r3b9rm",
        "outputId": "1cdde87b-450b-430a-a19c-c8cd8aba7165"
      },
      "source": [
        "dataset.info()"
      ],
      "execution_count": 63,
      "outputs": [
        {
          "output_type": "stream",
          "text": [
            "<class 'pandas.core.frame.DataFrame'>\n",
            "RangeIndex: 200853 entries, 0 to 200852\n",
            "Data columns (total 6 columns):\n",
            " #   Column             Non-Null Count   Dtype         \n",
            "---  ------             --------------   -----         \n",
            " 0   category           200853 non-null  object        \n",
            " 1   headline           200853 non-null  object        \n",
            " 2   authors            200853 non-null  object        \n",
            " 3   link               200853 non-null  object        \n",
            " 4   short_description  200853 non-null  object        \n",
            " 5   date               200853 non-null  datetime64[ns]\n",
            "dtypes: datetime64[ns](1), object(5)\n",
            "memory usage: 9.2+ MB\n"
          ],
          "name": "stdout"
        }
      ]
    },
    {
      "cell_type": "markdown",
      "metadata": {
        "id": "b2hrvjsi3sch"
      },
      "source": [
        "As it was said before, there is no null entries in any label of the dataset, so there is no data cleaning needed. This can be reaffirmed with the following code snippet."
      ]
    },
    {
      "cell_type": "code",
      "metadata": {
        "colab": {
          "base_uri": "https://localhost:8080/"
        },
        "id": "hE9QbucXb9rn",
        "outputId": "bd9f450e-db90-4f78-cd2e-9de013e00972"
      },
      "source": [
        "dataset.isna().sum()"
      ],
      "execution_count": 64,
      "outputs": [
        {
          "output_type": "execute_result",
          "data": {
            "text/plain": [
              "category             0\n",
              "headline             0\n",
              "authors              0\n",
              "link                 0\n",
              "short_description    0\n",
              "date                 0\n",
              "dtype: int64"
            ]
          },
          "metadata": {
            "tags": []
          },
          "execution_count": 64
        }
      ]
    },
    {
      "cell_type": "markdown",
      "metadata": {
        "id": "tKBlzY4fvIpy"
      },
      "source": [
        "There are 41 categories that the model will predict"
      ]
    },
    {
      "cell_type": "code",
      "metadata": {
        "colab": {
          "base_uri": "https://localhost:8080/"
        },
        "id": "AU-zHWn9vE5S",
        "outputId": "7cefe4f9-6cdd-4989-f2e0-d286887a5757"
      },
      "source": [
        "len(dataset['category'].unique())"
      ],
      "execution_count": 65,
      "outputs": [
        {
          "output_type": "execute_result",
          "data": {
            "text/plain": [
              "41"
            ]
          },
          "metadata": {
            "tags": []
          },
          "execution_count": 65
        }
      ]
    },
    {
      "cell_type": "markdown",
      "metadata": {
        "id": "OWolf_XfwVGD"
      },
      "source": [
        "##### Dataset's empty values"
      ]
    },
    {
      "cell_type": "markdown",
      "metadata": {
        "id": "-Vr-3Edywl1y"
      },
      "source": [
        "36620 news have no authors"
      ]
    },
    {
      "cell_type": "code",
      "metadata": {
        "colab": {
          "base_uri": "https://localhost:8080/"
        },
        "id": "9eobwcorvvo-",
        "outputId": "96cad4ae-ac07-419b-8ace-b87f7519646a"
      },
      "source": [
        "dataset.value_counts(dataset['authors'])"
      ],
      "execution_count": 66,
      "outputs": [
        {
          "output_type": "execute_result",
          "data": {
            "text/plain": [
              "authors\n",
              "NO_AUTHOR                                               36620\n",
              "Lee Moran                                                2423\n",
              "Ron Dicker                                               1913\n",
              "Reuters, Reuters                                         1562\n",
              "Ed Mazza                                                 1322\n",
              "                                                        ...  \n",
              "Lily Kuo, Quartz Africa                                     1\n",
              "Lily Remi, ContributorYoung Aussie writer & student         1\n",
              "Lin Stranberg, Contributor\\nWriter/Editor/Enthusiast        1\n",
              "Lina Esco, ContributorDirector, 'Free the Nipple'           1\n",
              " Basil Kreimendahl, Contributor\\nPlaywright                 1\n",
              "Length: 27993, dtype: int64"
            ]
          },
          "metadata": {
            "tags": []
          },
          "execution_count": 66
        }
      ]
    },
    {
      "cell_type": "markdown",
      "metadata": {
        "id": "ikX0V_8dwsKp"
      },
      "source": [
        "19712 news have no short description"
      ]
    },
    {
      "cell_type": "code",
      "metadata": {
        "colab": {
          "base_uri": "https://localhost:8080/"
        },
        "id": "JT4VHEAjwNI5",
        "outputId": "cb004484-5978-4311-cdd5-19707590e8af"
      },
      "source": [
        "dataset.value_counts(dataset['short_description'])"
      ],
      "execution_count": 67,
      "outputs": [
        {
          "output_type": "execute_result",
          "data": {
            "text/plain": [
              "short_description\n",
              "NO_DESCRIPTION                                                                                                                   19712\n",
              "Welcome to the HuffPost Rise Morning Newsbrief, a short wrap-up of the news to help you start your day.                            192\n",
              "The stress and strain of constantly being connected can sometimes take your life -- and your well-being -- off course. GPS         125\n",
              "Want more? Be sure to check out HuffPost Style on Twitter, Facebook, Tumblr, Pinterest and Instagram at @HuffPostStyle. -- Do       91\n",
              "Do you have a home story idea or tip? Email us at homesubmissions@huffingtonpost.com. (PR pitches sent to this address will         75\n",
              "                                                                                                                                 ...  \n",
              "Take a Twitter poetry break in honor of National Poetry Day!                                                                         1\n",
              "Take This Waltz 1n 1978, Diane was offered a part in a play in Montreal. Michael was delighted. \"I knew we had gone stale            1\n",
              "Take Amber Miller, for example. She ran the Chicago marathon while nearly 39 weeks pregnant in 2011 -- and delivered her             1\n",
              "Take \"Zero Dark Thirty,\" \"Lincoln\" and a handful of other Oscar-nominated movies, subtract the suspense, historical drama            1\n",
              "\" #InWakanda ashiness does not exist! There is jojoba oil in the wind.\"                                                              1\n",
              "Length: 178353, dtype: int64"
            ]
          },
          "metadata": {
            "tags": []
          },
          "execution_count": 67
        }
      ]
    },
    {
      "cell_type": "markdown",
      "metadata": {
        "id": "G4cAGxsMwz_T"
      },
      "source": [
        "All news have its corresponding headline"
      ]
    },
    {
      "cell_type": "code",
      "metadata": {
        "colab": {
          "base_uri": "https://localhost:8080/"
        },
        "id": "DvW334hNwQBY",
        "outputId": "3145a951-cbbb-4559-be2e-4ac2f3028ee5"
      },
      "source": [
        "dataset.value_counts(dataset['headline'])"
      ],
      "execution_count": 68,
      "outputs": [
        {
          "output_type": "execute_result",
          "data": {
            "text/plain": [
              "headline\n",
              "Sunday Roundup                                                                                   90\n",
              "The 20 Funniest Tweets From Women This Week                                                      80\n",
              "Weekly Roundup of eBay Vintage Clothing Finds (PHOTOS)                                           59\n",
              "Weekly Roundup of eBay Vintage Home Finds (PHOTOS)                                               54\n",
              "Watch The Top 9 YouTube Videos Of The Week                                                       46\n",
              "                                                                                                 ..\n",
              "Quvenzhané Wallis Oscar Dress 2013: Actress Looks Adorable In Armani And Puppy Purse (PHOTOS)     1\n",
              "Quvenzhané Wallis Has Her Fingers Crossed For Another Oscar Nod                                   1\n",
              "Quvenzhané Wallis Had A Dance-Off To End All Dance-Offs (VIDEO)                                   1\n",
              "Qutenza, Chili Pepper Drug, Gets Mixed Review For Treating HIV-Related Pain                       1\n",
              "\"2 Guns\": Two Pros In Action                                                                      1\n",
              "Length: 199344, dtype: int64"
            ]
          },
          "metadata": {
            "tags": []
          },
          "execution_count": 68
        }
      ]
    },
    {
      "cell_type": "markdown",
      "metadata": {
        "id": "3vhx61baCOXU"
      },
      "source": [
        "## Pre-Processing\n",
        "There is no need to re-preprocess the dataset for each iteration, so only one preprocessing on the dataset for each iteration will be made."
      ]
    },
    {
      "cell_type": "markdown",
      "metadata": {
        "id": "gRiDmZyW-_GT"
      },
      "source": [
        "### Categorize category column\n",
        "\n",
        "These column was used because it needed a categorized value for having a more comprehensible information in the dataset.\n",
        "In order to transform the column, was needed to use the Ordinal encoder."
      ]
    },
    {
      "cell_type": "code",
      "metadata": {
        "colab": {
          "base_uri": "https://localhost:8080/"
        },
        "id": "7E3V0K_2x6Qa",
        "outputId": "581d2fd9-2495-4ef2-b20f-df637e64dedc"
      },
      "source": [
        "categories = dataset[['category']]\n",
        "encoder = OrdinalEncoder()\n",
        "transformed_categories = encoder.fit_transform(categories)\n",
        "transformed_categories"
      ],
      "execution_count": 69,
      "outputs": [
        {
          "output_type": "execute_result",
          "data": {
            "text/plain": [
              "array([[ 6.],\n",
              "       [10.],\n",
              "       [10.],\n",
              "       ...,\n",
              "       [28.],\n",
              "       [28.],\n",
              "       [28.]])"
            ]
          },
          "metadata": {
            "tags": []
          },
          "execution_count": 69
        }
      ]
    },
    {
      "cell_type": "code",
      "metadata": {
        "colab": {
          "base_uri": "https://localhost:8080/",
          "height": 419
        },
        "id": "CFGsEjYFyo-L",
        "outputId": "ef94ff94-b13c-4f6f-84e7-575dfe1176cd"
      },
      "source": [
        "dataset['category'] = transformed_categories\n",
        "dataset"
      ],
      "execution_count": 70,
      "outputs": [
        {
          "output_type": "execute_result",
          "data": {
            "text/html": [
              "<div>\n",
              "<style scoped>\n",
              "    .dataframe tbody tr th:only-of-type {\n",
              "        vertical-align: middle;\n",
              "    }\n",
              "\n",
              "    .dataframe tbody tr th {\n",
              "        vertical-align: top;\n",
              "    }\n",
              "\n",
              "    .dataframe thead th {\n",
              "        text-align: right;\n",
              "    }\n",
              "</style>\n",
              "<table border=\"1\" class=\"dataframe\">\n",
              "  <thead>\n",
              "    <tr style=\"text-align: right;\">\n",
              "      <th></th>\n",
              "      <th>category</th>\n",
              "      <th>headline</th>\n",
              "      <th>authors</th>\n",
              "      <th>link</th>\n",
              "      <th>short_description</th>\n",
              "      <th>date</th>\n",
              "    </tr>\n",
              "  </thead>\n",
              "  <tbody>\n",
              "    <tr>\n",
              "      <th>0</th>\n",
              "      <td>6.0</td>\n",
              "      <td>There Were 2 Mass Shootings In Texas Last Week...</td>\n",
              "      <td>Melissa Jeltsen</td>\n",
              "      <td>https://www.huffingtonpost.com/entry/texas-ama...</td>\n",
              "      <td>She left her husband. He killed their children...</td>\n",
              "      <td>2018-05-26</td>\n",
              "    </tr>\n",
              "    <tr>\n",
              "      <th>1</th>\n",
              "      <td>10.0</td>\n",
              "      <td>Will Smith Joins Diplo And Nicky Jam For The 2...</td>\n",
              "      <td>Andy McDonald</td>\n",
              "      <td>https://www.huffingtonpost.com/entry/will-smit...</td>\n",
              "      <td>Of course it has a song.</td>\n",
              "      <td>2018-05-26</td>\n",
              "    </tr>\n",
              "    <tr>\n",
              "      <th>2</th>\n",
              "      <td>10.0</td>\n",
              "      <td>Hugh Grant Marries For The First Time At Age 57</td>\n",
              "      <td>Ron Dicker</td>\n",
              "      <td>https://www.huffingtonpost.com/entry/hugh-gran...</td>\n",
              "      <td>The actor and his longtime girlfriend Anna Ebe...</td>\n",
              "      <td>2018-05-26</td>\n",
              "    </tr>\n",
              "    <tr>\n",
              "      <th>3</th>\n",
              "      <td>10.0</td>\n",
              "      <td>Jim Carrey Blasts 'Castrato' Adam Schiff And D...</td>\n",
              "      <td>Ron Dicker</td>\n",
              "      <td>https://www.huffingtonpost.com/entry/jim-carre...</td>\n",
              "      <td>The actor gives Dems an ass-kicking for not fi...</td>\n",
              "      <td>2018-05-26</td>\n",
              "    </tr>\n",
              "    <tr>\n",
              "      <th>4</th>\n",
              "      <td>10.0</td>\n",
              "      <td>Julianna Margulies Uses Donald Trump Poop Bags...</td>\n",
              "      <td>Ron Dicker</td>\n",
              "      <td>https://www.huffingtonpost.com/entry/julianna-...</td>\n",
              "      <td>The \"Dietland\" actress said using the bags is ...</td>\n",
              "      <td>2018-05-26</td>\n",
              "    </tr>\n",
              "    <tr>\n",
              "      <th>...</th>\n",
              "      <td>...</td>\n",
              "      <td>...</td>\n",
              "      <td>...</td>\n",
              "      <td>...</td>\n",
              "      <td>...</td>\n",
              "      <td>...</td>\n",
              "    </tr>\n",
              "    <tr>\n",
              "      <th>200848</th>\n",
              "      <td>32.0</td>\n",
              "      <td>RIM CEO Thorsten Heins' 'Significant' Plans Fo...</td>\n",
              "      <td>Reuters, Reuters</td>\n",
              "      <td>https://www.huffingtonpost.com/entry/rim-ceo-t...</td>\n",
              "      <td>Verizon Wireless and AT&amp;T are already promotin...</td>\n",
              "      <td>2012-01-28</td>\n",
              "    </tr>\n",
              "    <tr>\n",
              "      <th>200849</th>\n",
              "      <td>28.0</td>\n",
              "      <td>Maria Sharapova Stunned By Victoria Azarenka I...</td>\n",
              "      <td>NO_AUTHOR</td>\n",
              "      <td>https://www.huffingtonpost.com/entry/maria-sha...</td>\n",
              "      <td>Afterward, Azarenka, more effusive with the pr...</td>\n",
              "      <td>2012-01-28</td>\n",
              "    </tr>\n",
              "    <tr>\n",
              "      <th>200850</th>\n",
              "      <td>28.0</td>\n",
              "      <td>Giants Over Patriots, Jets Over Colts Among  M...</td>\n",
              "      <td>NO_AUTHOR</td>\n",
              "      <td>https://www.huffingtonpost.com/entry/super-bow...</td>\n",
              "      <td>Leading up to Super Bowl XLVI, the most talked...</td>\n",
              "      <td>2012-01-28</td>\n",
              "    </tr>\n",
              "    <tr>\n",
              "      <th>200851</th>\n",
              "      <td>28.0</td>\n",
              "      <td>Aldon Smith Arrested: 49ers Linebacker Busted ...</td>\n",
              "      <td>NO_AUTHOR</td>\n",
              "      <td>https://www.huffingtonpost.com/entry/aldon-smi...</td>\n",
              "      <td>CORRECTION: An earlier version of this story i...</td>\n",
              "      <td>2012-01-28</td>\n",
              "    </tr>\n",
              "    <tr>\n",
              "      <th>200852</th>\n",
              "      <td>28.0</td>\n",
              "      <td>Dwight Howard Rips Teammates After Magic Loss ...</td>\n",
              "      <td>NO_AUTHOR</td>\n",
              "      <td>https://www.huffingtonpost.com/entry/dwight-ho...</td>\n",
              "      <td>The five-time all-star center tore into his te...</td>\n",
              "      <td>2012-01-28</td>\n",
              "    </tr>\n",
              "  </tbody>\n",
              "</table>\n",
              "<p>200853 rows × 6 columns</p>\n",
              "</div>"
            ],
            "text/plain": [
              "        category  ...       date\n",
              "0            6.0  ... 2018-05-26\n",
              "1           10.0  ... 2018-05-26\n",
              "2           10.0  ... 2018-05-26\n",
              "3           10.0  ... 2018-05-26\n",
              "4           10.0  ... 2018-05-26\n",
              "...          ...  ...        ...\n",
              "200848      32.0  ... 2012-01-28\n",
              "200849      28.0  ... 2012-01-28\n",
              "200850      28.0  ... 2012-01-28\n",
              "200851      28.0  ... 2012-01-28\n",
              "200852      28.0  ... 2012-01-28\n",
              "\n",
              "[200853 rows x 6 columns]"
            ]
          },
          "metadata": {
            "tags": []
          },
          "execution_count": 70
        }
      ]
    },
    {
      "cell_type": "markdown",
      "metadata": {
        "id": "ieHdJWO8b9rs"
      },
      "source": [
        "### Split between training and test\n",
        "Usage of train_test_split function to obtain the train and test sub-datasets"
      ]
    },
    {
      "cell_type": "code",
      "metadata": {
        "id": "x_1HsCSrb9rt"
      },
      "source": [
        "train, test = train_test_split(dataset, test_size = 0.3)"
      ],
      "execution_count": 71,
      "outputs": []
    },
    {
      "cell_type": "markdown",
      "metadata": {
        "id": "zXDGdkEO1AAe"
      },
      "source": [
        "## Selection and Evaluation of models"
      ]
    },
    {
      "cell_type": "markdown",
      "metadata": {
        "id": "Bp1FAt2K1AAf"
      },
      "source": [
        "### Utility functions"
      ]
    },
    {
      "cell_type": "markdown",
      "metadata": {
        "id": "1sg3CMi_c_5f"
      },
      "source": [
        "Function for obtaining the base pipeline, it receives the classifier which is the only argument that needs to be changed"
      ]
    },
    {
      "cell_type": "code",
      "metadata": {
        "id": "faF_8g2Bcb9H"
      },
      "source": [
        "def getPipeline(classifier):\n",
        "    return Pipeline(steps=[('stemmer', CustomStemmer()),('count', CountVectorizer(stop_words='english')),('scaler', MaxAbsScaler()),('clf', classifier())])"
      ],
      "execution_count": 72,
      "outputs": []
    },
    {
      "cell_type": "markdown",
      "metadata": {
        "id": "aGn0e4ml1AAh"
      },
      "source": [
        "### Evaluation"
      ]
    },
    {
      "cell_type": "code",
      "metadata": {
        "id": "NOYLIgitZiyx"
      },
      "source": [
        "class CustomStemmer(BaseEstimator, TransformerMixin):\n",
        "  def __init__(self):\n",
        "    self.stemmer = PorterStemmer()\n",
        "    self.tokenizer = RegexpTokenizer(r'\\w+')\n",
        "  def fit(self, X, y=None):\n",
        "      \n",
        "    return self\n",
        "      \n",
        "  def transform(self, X, y=None):\n",
        "    a = []\n",
        "    \n",
        "\n",
        "    for x in X.to_numpy():\n",
        "      s = ''\n",
        "      for w in self.tokenizer.tokenize(x):\n",
        "\n",
        "        s += ' ' + self.stemmer.stem(w) + ' '\n",
        "      a.append(s)    \n",
        "    return np.array(a)"
      ],
      "execution_count": 73,
      "outputs": []
    },
    {
      "cell_type": "markdown",
      "metadata": {
        "id": "gfb4G7lscIxF"
      },
      "source": [
        "#### Pipelines definitions"
      ]
    },
    {
      "cell_type": "markdown",
      "metadata": {
        "id": "lGmlfAc7dZNw"
      },
      "source": [
        "The pipelines' classifiers selected were:\n",
        "\n",
        "* Decision Tree\n",
        "* Multinomial Naive Bayes\n",
        "* K Nearest Neighbors\n",
        "\n",
        "A dictionary was defined in order to iterate it and therefore, avoid code duplication."
      ]
    },
    {
      "cell_type": "code",
      "metadata": {
        "id": "3HzGbtDtbPQ6"
      },
      "source": [
        "tree_pipeline = getPipeline(DecisionTreeClassifier)\n",
        "NB_pipeline = getPipeline(MultinomialNB)\n",
        "KNN_pipeline = getPipeline(KNeighborsClassifier)\n",
        "pipe_dict = {\n",
        "    'Decision_Tree': tree_pipeline,\n",
        "    'Multinomial Naive Bayes': NB_pipeline,\n",
        "    'KNN': KNN_pipeline\n",
        "}"
      ],
      "execution_count": 74,
      "outputs": []
    },
    {
      "cell_type": "markdown",
      "metadata": {
        "id": "QC0ybJVed7Ty"
      },
      "source": [
        "#### Hyperparams definitions"
      ]
    },
    {
      "cell_type": "markdown",
      "metadata": {
        "id": "BslGPtNBoaAD"
      },
      "source": [
        "Definition of a hyperparameters dictionary to iterate it and avoid code duplication"
      ]
    },
    {
      "cell_type": "code",
      "metadata": {
        "id": "jxigzzGZeD-w"
      },
      "source": [
        "hyperparams_dict = {\n",
        "    'Decision_Tree': [{\"clf__max_depth\":[6,8,10]}],\n",
        "    'Multinomial Naive Bayes': [{\"clf__fit_prior\":[True, False]}],\n",
        "    'KNN': {\"clf__n_neighbors\":[3,5,7]}\n",
        "}"
      ],
      "execution_count": 75,
      "outputs": []
    },
    {
      "cell_type": "markdown",
      "metadata": {
        "id": "8rVsgbC-oxKU"
      },
      "source": [
        "#### Training alternatives"
      ]
    },
    {
      "cell_type": "markdown",
      "metadata": {
        "id": "b0YnN51Eo3G6"
      },
      "source": [
        "Definition of a trainings dictionary to iterate it and avoid code duplication. \n",
        "\n",
        "Also, defined an empty dictionary that will store all the accuracy results from the different trainings"
      ]
    },
    {
      "cell_type": "code",
      "metadata": {
        "id": "N8wEALZafDT3"
      },
      "source": [
        "trainings_dict = {\n",
        "    'Headline': train['headline'],\n",
        "    'Short Description': train['short_description'],\n",
        "    'Authors': train['authors'],\n",
        "    'Headline-Short Description': train['headline'] + ' ' + train['short_description'],\n",
        "    'Headline-Authors': train['headline'] + ' ' + train['authors'],\n",
        "    'Authors-Short Description': train['authors'] + ' ' + train['short_description'],\n",
        "    'All': train['authors'] + ' ' + train['headline'] + ' ' + train['short_description']\n",
        "}\n",
        "\n",
        "models_accuracy = {}"
      ],
      "execution_count": 76,
      "outputs": []
    },
    {
      "cell_type": "markdown",
      "metadata": {
        "id": "tkVBTBuc1AAh"
      },
      "source": [
        "Loop over the trainings, pipelines and hyperparameters dictionaries with references to their corresponding function in order to store the accuracy score in the models_accuracy dictionary by its correspondig key-value pair"
      ]
    },
    {
      "cell_type": "code",
      "metadata": {
        "colab": {
          "base_uri": "https://localhost:8080/"
        },
        "id": "vwMAt99d1AAi",
        "outputId": "0bc5830c-ed39-49c9-f755-eb2f5c957ec7"
      },
      "source": [
        "y = train['category']\n",
        "for training in trainings_dict:\n",
        "    models_accuracy[training] = {}\n",
        "    models_accuracy[training] = {}\n",
        "for training in trainings_dict:\n",
        "    X = trainings_dict[training]\n",
        "    X_train, X_test, y_train, y_test = train_test_split(X, y, test_size = 0.3)\n",
        "    for pipeline in pipe_dict:\n",
        "        print(training, pipeline)\n",
        "        gs = GridSearchCV(pipe_dict[pipeline], hyperparams_dict[pipeline], n_jobs=-1)\n",
        "        gs.fit(X_train,y_train)\n",
        "        y_predict = gs.predict(X_test)\n",
        "        models_accuracy[training][pipeline] = accuracy_score(y_test, y_predict)  "
      ],
      "execution_count": 260,
      "outputs": [
        {
          "output_type": "stream",
          "text": [
            "Headline Decision_Tree\n",
            "Headline Multinomial Naive Bayes\n",
            "Headline KNN\n",
            "Short Description Decision_Tree\n"
          ],
          "name": "stdout"
        },
        {
          "output_type": "stream",
          "text": [
            "/usr/local/lib/python3.7/dist-packages/joblib/externals/loky/process_executor.py:691: UserWarning: A worker stopped while some jobs were given to the executor. This can be caused by a too short worker timeout or by a memory leak.\n",
            "  \"timeout or by a memory leak.\", UserWarning\n"
          ],
          "name": "stderr"
        },
        {
          "output_type": "stream",
          "text": [
            "Short Description Multinomial Naive Bayes\n",
            "Short Description KNN\n",
            "Authors Decision_Tree\n",
            "Authors Multinomial Naive Bayes\n",
            "Authors KNN\n",
            "Headline-Short Description Decision_Tree\n"
          ],
          "name": "stdout"
        },
        {
          "output_type": "stream",
          "text": [
            "/usr/local/lib/python3.7/dist-packages/joblib/externals/loky/process_executor.py:691: UserWarning: A worker stopped while some jobs were given to the executor. This can be caused by a too short worker timeout or by a memory leak.\n",
            "  \"timeout or by a memory leak.\", UserWarning\n"
          ],
          "name": "stderr"
        },
        {
          "output_type": "stream",
          "text": [
            "Headline-Short Description Multinomial Naive Bayes\n",
            "Headline-Short Description KNN\n",
            "Headline-Authors Decision_Tree\n",
            "Headline-Authors Multinomial Naive Bayes\n",
            "Headline-Authors KNN\n",
            "Authors-Short Description Decision_Tree\n",
            "Authors-Short Description Multinomial Naive Bayes\n",
            "Authors-Short Description KNN\n",
            "All Decision_Tree\n",
            "All Multinomial Naive Bayes\n",
            "All KNN\n"
          ],
          "name": "stdout"
        }
      ]
    },
    {
      "cell_type": "code",
      "metadata": {
        "colab": {
          "base_uri": "https://localhost:8080/"
        },
        "id": "zKn4eQupw1aN",
        "outputId": "d101930b-8525-4cfb-b47c-df70aaed997c"
      },
      "source": [
        "printDict(models_accuracy)"
      ],
      "execution_count": 82,
      "outputs": [
        {
          "output_type": "stream",
          "text": [
            "{\n",
            "    \"All\": {\n",
            "        \"Decision_Tree\": 0.33499288762446655,\n",
            "        \"KNN\": 0.4517306780464675,\n",
            "        \"Multinomial Naive Bayes\": 0.6324087245139877\n",
            "    },\n",
            "    \"Authors\": {\n",
            "        \"Decision_Tree\": 0.28584637268847796,\n",
            "        \"KNN\": 0.48909435751541014,\n",
            "        \"Multinomial Naive Bayes\": 0.5433380749170222\n",
            "    },\n",
            "    \"Authors-Short Description\": {\n",
            "        \"Decision_Tree\": 0.30436225699383596,\n",
            "        \"KNN\": 0.4395448079658606,\n",
            "        \"Multinomial Naive Bayes\": 0.5953295400663822\n",
            "    },\n",
            "    \"Headline\": {\n",
            "        \"Decision_Tree\": 0.22219061166429588,\n",
            "        \"KNN\": 0.2843764817449028,\n",
            "        \"Multinomial Naive Bayes\": 0.5228544333807492\n",
            "    },\n",
            "    \"Headline-Authors\": {\n",
            "        \"Decision_Tree\": 0.33079658605974394,\n",
            "        \"KNN\": 0.5382408724513987,\n",
            "        \"Multinomial Naive Bayes\": 0.6701280227596017\n",
            "    },\n",
            "    \"Headline-Short Description\": {\n",
            "        \"Decision_Tree\": 0.23824087245139877,\n",
            "        \"KNN\": 0.2293978188715031,\n",
            "        \"Multinomial Naive Bayes\": 0.5020862968231389\n",
            "    },\n",
            "    \"Short Description\": {\n",
            "        \"Decision_Tree\": 0.20018966334755808,\n",
            "        \"KNN\": 0.15912754860123282,\n",
            "        \"Multinomial Naive Bayes\": 0.37183499288762445\n",
            "    }\n",
            "}\n"
          ],
          "name": "stdout"
        }
      ]
    },
    {
      "cell_type": "markdown",
      "metadata": {
        "id": "Vd1u9iVaCPHO"
      },
      "source": [
        "# Dataset News first 10 categories"
      ]
    },
    {
      "cell_type": "markdown",
      "metadata": {
        "id": "rwRWFRoLCcJy"
      },
      "source": [
        "For this section, only the dataset will be changed, so the same variables defined previously will work fine"
      ]
    },
    {
      "cell_type": "markdown",
      "metadata": {
        "id": "rP_ln_tAC10z"
      },
      "source": [
        "## Dataset transformation"
      ]
    },
    {
      "cell_type": "code",
      "metadata": {
        "colab": {
          "base_uri": "https://localhost:8080/",
          "height": 589
        },
        "id": "JLzECjLNDBzh",
        "outputId": "1cfa5df8-706f-4aba-c68a-e7e9951038a2"
      },
      "source": [
        "dataset = dataset[dataset['category'] <= 10]\n",
        "dataset\n",
        "\n"
      ],
      "execution_count": 32,
      "outputs": [
        {
          "output_type": "execute_result",
          "data": {
            "text/html": [
              "<div>\n",
              "<style scoped>\n",
              "    .dataframe tbody tr th:only-of-type {\n",
              "        vertical-align: middle;\n",
              "    }\n",
              "\n",
              "    .dataframe tbody tr th {\n",
              "        vertical-align: top;\n",
              "    }\n",
              "\n",
              "    .dataframe thead th {\n",
              "        text-align: right;\n",
              "    }\n",
              "</style>\n",
              "<table border=\"1\" class=\"dataframe\">\n",
              "  <thead>\n",
              "    <tr style=\"text-align: right;\">\n",
              "      <th></th>\n",
              "      <th>category</th>\n",
              "      <th>headline</th>\n",
              "      <th>authors</th>\n",
              "      <th>link</th>\n",
              "      <th>short_description</th>\n",
              "      <th>date</th>\n",
              "    </tr>\n",
              "  </thead>\n",
              "  <tbody>\n",
              "    <tr>\n",
              "      <th>0</th>\n",
              "      <td>6.0</td>\n",
              "      <td>There Were 2 Mass Shootings In Texas Last Week...</td>\n",
              "      <td>Melissa Jeltsen</td>\n",
              "      <td>https://www.huffingtonpost.com/entry/texas-ama...</td>\n",
              "      <td>She left her husband. He killed their children...</td>\n",
              "      <td>2018-05-26</td>\n",
              "    </tr>\n",
              "    <tr>\n",
              "      <th>1</th>\n",
              "      <td>10.0</td>\n",
              "      <td>Will Smith Joins Diplo And Nicky Jam For The 2...</td>\n",
              "      <td>Andy McDonald</td>\n",
              "      <td>https://www.huffingtonpost.com/entry/will-smit...</td>\n",
              "      <td>Of course it has a song.</td>\n",
              "      <td>2018-05-26</td>\n",
              "    </tr>\n",
              "    <tr>\n",
              "      <th>2</th>\n",
              "      <td>10.0</td>\n",
              "      <td>Hugh Grant Marries For The First Time At Age 57</td>\n",
              "      <td>Ron Dicker</td>\n",
              "      <td>https://www.huffingtonpost.com/entry/hugh-gran...</td>\n",
              "      <td>The actor and his longtime girlfriend Anna Ebe...</td>\n",
              "      <td>2018-05-26</td>\n",
              "    </tr>\n",
              "    <tr>\n",
              "      <th>3</th>\n",
              "      <td>10.0</td>\n",
              "      <td>Jim Carrey Blasts 'Castrato' Adam Schiff And D...</td>\n",
              "      <td>Ron Dicker</td>\n",
              "      <td>https://www.huffingtonpost.com/entry/jim-carre...</td>\n",
              "      <td>The actor gives Dems an ass-kicking for not fi...</td>\n",
              "      <td>2018-05-26</td>\n",
              "    </tr>\n",
              "    <tr>\n",
              "      <th>4</th>\n",
              "      <td>10.0</td>\n",
              "      <td>Julianna Margulies Uses Donald Trump Poop Bags...</td>\n",
              "      <td>Ron Dicker</td>\n",
              "      <td>https://www.huffingtonpost.com/entry/julianna-...</td>\n",
              "      <td>The \"Dietland\" actress said using the bags is ...</td>\n",
              "      <td>2018-05-26</td>\n",
              "    </tr>\n",
              "    <tr>\n",
              "      <th>...</th>\n",
              "      <td>...</td>\n",
              "      <td>...</td>\n",
              "      <td>...</td>\n",
              "      <td>...</td>\n",
              "      <td>...</td>\n",
              "      <td>...</td>\n",
              "    </tr>\n",
              "    <tr>\n",
              "      <th>200838</th>\n",
              "      <td>10.0</td>\n",
              "      <td>Sundance, Ice-T, and Shades of the American Ra...</td>\n",
              "      <td>Courtney Garcia, Contributor\\nI tell stories a...</td>\n",
              "      <td>https://www.huffingtonpost.com/entry/sundance-...</td>\n",
              "      <td>Representation of the collective diaspora has ...</td>\n",
              "      <td>2012-01-28</td>\n",
              "    </tr>\n",
              "    <tr>\n",
              "      <th>200839</th>\n",
              "      <td>10.0</td>\n",
              "      <td>'Girl With the Dragon Tattoo' India Release Ca...</td>\n",
              "      <td>NO_AUTHOR</td>\n",
              "      <td>https://www.huffingtonpost.com/entry/girl-with...</td>\n",
              "      <td>\"Sony Pictures will not be releasing The Girl ...</td>\n",
              "      <td>2012-01-28</td>\n",
              "    </tr>\n",
              "    <tr>\n",
              "      <th>200840</th>\n",
              "      <td>7.0</td>\n",
              "      <td>'Don't Think': A Look At The Chemical Brothers...</td>\n",
              "      <td>Kia Makarechi</td>\n",
              "      <td>https://www.huffingtonpost.com/entry/dont-thin...</td>\n",
              "      <td>Amid cheers and the occasional \"Here we go!\" f...</td>\n",
              "      <td>2012-01-28</td>\n",
              "    </tr>\n",
              "    <tr>\n",
              "      <th>200841</th>\n",
              "      <td>7.0</td>\n",
              "      <td>Matthew Marks Discusses His New LA Gallery</td>\n",
              "      <td>NO_AUTHOR</td>\n",
              "      <td>https://www.huffingtonpost.com/entry/matthew-m...</td>\n",
              "      <td>Was it an obvious choice to recruit Ellsworth ...</td>\n",
              "      <td>2012-01-28</td>\n",
              "    </tr>\n",
              "    <tr>\n",
              "      <th>200842</th>\n",
              "      <td>7.0</td>\n",
              "      <td>Allard Van Hoorn's 'Urban Songline' Explores R...</td>\n",
              "      <td>NO_AUTHOR</td>\n",
              "      <td>https://www.huffingtonpost.com/entry/allard-va...</td>\n",
              "      <td>A recent exhibition at Storefront for Art and ...</td>\n",
              "      <td>2012-01-28</td>\n",
              "    </tr>\n",
              "  </tbody>\n",
              "</table>\n",
              "<p>44555 rows × 6 columns</p>\n",
              "</div>"
            ],
            "text/plain": [
              "        category  ...       date\n",
              "0            6.0  ... 2018-05-26\n",
              "1           10.0  ... 2018-05-26\n",
              "2           10.0  ... 2018-05-26\n",
              "3           10.0  ... 2018-05-26\n",
              "4           10.0  ... 2018-05-26\n",
              "...          ...  ...        ...\n",
              "200838      10.0  ... 2012-01-28\n",
              "200839      10.0  ... 2012-01-28\n",
              "200840       7.0  ... 2012-01-28\n",
              "200841       7.0  ... 2012-01-28\n",
              "200842       7.0  ... 2012-01-28\n",
              "\n",
              "[44555 rows x 6 columns]"
            ]
          },
          "metadata": {
            "tags": []
          },
          "execution_count": 32
        }
      ]
    },
    {
      "cell_type": "markdown",
      "metadata": {
        "id": "Uzv4E0kVDIuq"
      },
      "source": [
        "### Train test split"
      ]
    },
    {
      "cell_type": "code",
      "metadata": {
        "id": "X09HyG-lDPd0"
      },
      "source": [
        "train, test = train_test_split(dataset, test_size = 0.3)"
      ],
      "execution_count": 33,
      "outputs": []
    },
    {
      "cell_type": "markdown",
      "metadata": {
        "id": "z90bL77uDcTN"
      },
      "source": [
        "### Training dictionary redefinition for new dataset"
      ]
    },
    {
      "cell_type": "code",
      "metadata": {
        "id": "XSSBhUnjDgaF"
      },
      "source": [
        "trainings_dict = {\n",
        "    'Headline': train['headline'],\n",
        "    'Short Description': train['short_description'],\n",
        "    'Authors': train['authors'],\n",
        "    'Headline-Short Description': train['headline'] + ' ' + train['short_description'],\n",
        "    'Headline-Authors': train['headline'] + ' ' + train['authors'],\n",
        "    'Authors-Short Description': train['authors'] + ' ' + train['short_description'],\n",
        "    'All': train['authors'] + ' ' + train['headline'] + ' ' + train['short_description']\n",
        "}\n",
        "\n",
        "models_accuracy_10categories = {}"
      ],
      "execution_count": 34,
      "outputs": []
    },
    {
      "cell_type": "markdown",
      "metadata": {
        "id": "SWdr7a8eC6nP"
      },
      "source": [
        "## Evaluation"
      ]
    },
    {
      "cell_type": "code",
      "metadata": {
        "colab": {
          "base_uri": "https://localhost:8080/"
        },
        "id": "FLr3bbQLCVFE",
        "outputId": "d00869a2-8ac9-4a20-e378-bd0bad6cea84"
      },
      "source": [
        "y = train['category']\n",
        "for training in trainings_dict:\n",
        "    models_accuracy_10categories[training] = {}\n",
        "    models_accuracy_10categories[training] = {}\n",
        "for training in trainings_dict:\n",
        "    X = trainings_dict[training]\n",
        "    X_train, X_test, y_train, y_test = train_test_split(X, y, test_size = 0.3)\n",
        "    for pipeline in pipe_dict:\n",
        "        print(training, pipeline)\n",
        "        gs = GridSearchCV(pipe_dict[pipeline], hyperparams_dict[pipeline], n_jobs=-1)\n",
        "        gs.fit(X_train,y_train)\n",
        "        y_predict = gs.predict(X_test)\n",
        "        models_accuracy_10categories[training][pipeline] = accuracy_score(y_test, y_predict)  "
      ],
      "execution_count": 35,
      "outputs": [
        {
          "output_type": "stream",
          "text": [
            "Headline Decision_Tree\n",
            "Headline Multinomial Naive Bayes\n",
            "Headline KNN\n",
            "Short Description Decision_Tree\n",
            "Short Description Multinomial Naive Bayes\n",
            "Short Description KNN\n",
            "Authors Decision_Tree\n",
            "Authors Multinomial Naive Bayes\n",
            "Authors KNN\n",
            "Headline-Short Description Decision_Tree\n",
            "Headline-Short Description Multinomial Naive Bayes\n",
            "Headline-Short Description KNN\n",
            "Headline-Authors Decision_Tree\n",
            "Headline-Authors Multinomial Naive Bayes\n",
            "Headline-Authors KNN\n",
            "Authors-Short Description Decision_Tree\n",
            "Authors-Short Description Multinomial Naive Bayes\n",
            "Authors-Short Description KNN\n",
            "All Decision_Tree\n",
            "All Multinomial Naive Bayes\n",
            "All KNN\n"
          ],
          "name": "stdout"
        }
      ]
    },
    {
      "cell_type": "code",
      "metadata": {
        "colab": {
          "base_uri": "https://localhost:8080/"
        },
        "id": "pPfpqwepEvul",
        "outputId": "1dac0bf7-94b2-414f-9889-927a87e1ec98"
      },
      "source": [
        "printDict(models_accuracy_10categories)"
      ],
      "execution_count": 55,
      "outputs": [
        {
          "output_type": "stream",
          "text": [
            "{\n",
            "    \"All\": {\n",
            "        \"Decision_Tree\": 0.501656513839906,\n",
            "        \"KNN\": 0.5732606604680988,\n",
            "        \"Multinomial Naive Bayes\": 0.7817676605749706\n",
            "    },\n",
            "    \"Authors\": {\n",
            "        \"Decision_Tree\": 0.4329379074489687,\n",
            "        \"KNN\": 0.606711552848135,\n",
            "        \"Multinomial Naive Bayes\": 0.6404830608100887\n",
            "    },\n",
            "    \"Authors-Short Description\": {\n",
            "        \"Decision_Tree\": 0.42545687720423214,\n",
            "        \"KNN\": 0.5331837127284386,\n",
            "        \"Multinomial Naive Bayes\": 0.7281179865341456\n",
            "    },\n",
            "    \"Headline\": {\n",
            "        \"Decision_Tree\": 0.4682056214598696,\n",
            "        \"KNN\": 0.3540664742973175,\n",
            "        \"Multinomial Naive Bayes\": 0.663567382708133\n",
            "    },\n",
            "    \"Headline-Authors\": {\n",
            "        \"Decision_Tree\": 0.47248049588543334,\n",
            "        \"KNN\": 0.6079940151758042,\n",
            "        \"Multinomial Naive Bayes\": 0.7872181254675644\n",
            "    },\n",
            "    \"Headline-Short Description\": {\n",
            "        \"Decision_Tree\": 0.4906487121940793,\n",
            "        \"KNN\": 0.36432617291867053,\n",
            "        \"Multinomial Naive Bayes\": 0.6689109757400876\n",
            "    },\n",
            "    \"Short Description\": {\n",
            "        \"Decision_Tree\": 0.4325104200064123,\n",
            "        \"KNN\": 0.31783691354066473,\n",
            "        \"Multinomial Naive Bayes\": 0.5140536496740409\n",
            "    }\n",
            "}\n"
          ],
          "name": "stdout"
        }
      ]
    },
    {
      "cell_type": "markdown",
      "metadata": {
        "id": "xXmFqZIVWoCe"
      },
      "source": [
        "# Final Analysis"
      ]
    },
    {
      "cell_type": "markdown",
      "metadata": {
        "id": "_D9f_38pXlil"
      },
      "source": [
        "## Results comparison"
      ]
    },
    {
      "cell_type": "markdown",
      "metadata": {
        "id": "sycuveLin4XI"
      },
      "source": [
        "### All categories Dataset"
      ]
    },
    {
      "cell_type": "code",
      "metadata": {
        "colab": {
          "base_uri": "https://localhost:8080/"
        },
        "id": "YbQC13PkXY7e",
        "outputId": "9ff73b0b-880b-4094-9588-35c4c8336fba"
      },
      "source": [
        "printDict(models_accuracy)"
      ],
      "execution_count": 86,
      "outputs": [
        {
          "output_type": "stream",
          "text": [
            "{\n",
            "    \"All\": {\n",
            "        \"Decision_Tree\": 0.33499288762446655,\n",
            "        \"KNN\": 0.4517306780464675,\n",
            "        \"Multinomial Naive Bayes\": 0.6324087245139877\n",
            "    },\n",
            "    \"Authors\": {\n",
            "        \"Decision_Tree\": 0.28584637268847796,\n",
            "        \"KNN\": 0.48909435751541014,\n",
            "        \"Multinomial Naive Bayes\": 0.5433380749170222\n",
            "    },\n",
            "    \"Authors-Short Description\": {\n",
            "        \"Decision_Tree\": 0.30436225699383596,\n",
            "        \"KNN\": 0.4395448079658606,\n",
            "        \"Multinomial Naive Bayes\": 0.5953295400663822\n",
            "    },\n",
            "    \"Headline\": {\n",
            "        \"Decision_Tree\": 0.22219061166429588,\n",
            "        \"KNN\": 0.2843764817449028,\n",
            "        \"Multinomial Naive Bayes\": 0.5228544333807492\n",
            "    },\n",
            "    \"Headline-Authors\": {\n",
            "        \"Decision_Tree\": 0.33079658605974394,\n",
            "        \"KNN\": 0.5382408724513987,\n",
            "        \"Multinomial Naive Bayes\": 0.6701280227596017\n",
            "    },\n",
            "    \"Headline-Short Description\": {\n",
            "        \"Decision_Tree\": 0.23824087245139877,\n",
            "        \"KNN\": 0.2293978188715031,\n",
            "        \"Multinomial Naive Bayes\": 0.5020862968231389\n",
            "    },\n",
            "    \"Short Description\": {\n",
            "        \"Decision_Tree\": 0.20018966334755808,\n",
            "        \"KNN\": 0.15912754860123282,\n",
            "        \"Multinomial Naive Bayes\": 0.37183499288762445\n",
            "    }\n",
            "}\n"
          ],
          "name": "stdout"
        }
      ]
    },
    {
      "cell_type": "markdown",
      "metadata": {
        "id": "CvSWTwsSoZlk"
      },
      "source": [
        "Throughout this dataset, a main issue was presented while fitting the model, this was that, while using the GridSearchCV, each possible training lasted, in some cases more than half an hour. This could increase even more if the dataset continues growing.\n",
        "\n",
        "An important observation, was that the accuracy obtained in most of the predictions was less than 60% (In some results, the accuracy was of 15.9%). This are bad results considering that it will fail in, at least, 40% of the occasions.\n",
        "\n",
        "The best results obtained were that, in all possible trainings, the Multinomial Naive Bayes classifier was the one that gave the best accuracy scores. Therefore, this classifier will be the go to approach.\n",
        "\n",
        "Finally, the best dataset subsection by the concatenation of its columns, was the one that included all the most relevant columns (Authors - Headline - Short Description) with an accuracy score of 63.2%."
      ]
    },
    {
      "cell_type": "markdown",
      "metadata": {
        "id": "Ed-Co9vAoHr7"
      },
      "source": [
        "### 10 categories Dataset"
      ]
    },
    {
      "cell_type": "code",
      "metadata": {
        "colab": {
          "base_uri": "https://localhost:8080/"
        },
        "id": "vqDo_be-XdbM",
        "outputId": "b1776256-316c-4190-8cb8-f0c6a79d5dd9"
      },
      "source": [
        "printDict(models_accuracy_10categories)"
      ],
      "execution_count": 84,
      "outputs": [
        {
          "output_type": "stream",
          "text": [
            "{\n",
            "    \"All\": {\n",
            "        \"Decision_Tree\": 0.501656513839906,\n",
            "        \"KNN\": 0.5732606604680988,\n",
            "        \"Multinomial Naive Bayes\": 0.7817676605749706\n",
            "    },\n",
            "    \"Authors\": {\n",
            "        \"Decision_Tree\": 0.4329379074489687,\n",
            "        \"KNN\": 0.606711552848135,\n",
            "        \"Multinomial Naive Bayes\": 0.6404830608100887\n",
            "    },\n",
            "    \"Authors-Short Description\": {\n",
            "        \"Decision_Tree\": 0.42545687720423214,\n",
            "        \"KNN\": 0.5331837127284386,\n",
            "        \"Multinomial Naive Bayes\": 0.7281179865341456\n",
            "    },\n",
            "    \"Headline\": {\n",
            "        \"Decision_Tree\": 0.4682056214598696,\n",
            "        \"KNN\": 0.3540664742973175,\n",
            "        \"Multinomial Naive Bayes\": 0.663567382708133\n",
            "    },\n",
            "    \"Headline-Authors\": {\n",
            "        \"Decision_Tree\": 0.47248049588543334,\n",
            "        \"KNN\": 0.6079940151758042,\n",
            "        \"Multinomial Naive Bayes\": 0.7872181254675644\n",
            "    },\n",
            "    \"Headline-Short Description\": {\n",
            "        \"Decision_Tree\": 0.4906487121940793,\n",
            "        \"KNN\": 0.36432617291867053,\n",
            "        \"Multinomial Naive Bayes\": 0.6689109757400876\n",
            "    },\n",
            "    \"Short Description\": {\n",
            "        \"Decision_Tree\": 0.4325104200064123,\n",
            "        \"KNN\": 0.31783691354066473,\n",
            "        \"Multinomial Naive Bayes\": 0.5140536496740409\n",
            "    }\n",
            "}\n"
          ],
          "name": "stdout"
        }
      ]
    },
    {
      "cell_type": "markdown",
      "metadata": {
        "id": "3d8rlwIfo2vN"
      },
      "source": [
        "Throughout this dataset, the issue presented on the previous dataset was mitigated by the reduction of the possible categories to predict but also took a significant amount of time to fit (about 1 hour for all the models).\n",
        "\n",
        "Compared to the previous dataset, the least accuracy score was 16% higher than the other and the accuracy rate also increased in all classifiers obtaining better results than in the other dataset.\n",
        "\n",
        "The best results obtained were that, in all possible trainings, the Multinomial Naive Bayes classifier was the one that gave the best accuracy scores as also was seen in the previous dataset. Therefore, this classifier will be the go to approach.\n",
        "\n",
        "Finally, the best dataset subsection by the concatenation of its columns, was the one that included the headline and author columns with an accuracy score of 78.7%."
      ]
    },
    {
      "cell_type": "markdown",
      "metadata": {
        "id": "mZVmFD_uo4N6"
      },
      "source": [
        "# Final Observation"
      ]
    },
    {
      "cell_type": "markdown",
      "metadata": {
        "id": "jH57Hy-IpAb9"
      },
      "source": [
        "As it was seen in the accuracy scores from both datasets, the best results were the ones obtained by using only 10 categories. This could happen because there are less possibilities to evaluate, so this have a positive effect in the results in the best result of 78.7% in the best classifier with 10 categories by 63.2% in the corresponding one from all the categories.\n",
        "\n",
        "Finally, as a last statement, a good advice could be to train many models with at most 10 categories so that the result would become more accurate."
      ]
    }
  ]
}